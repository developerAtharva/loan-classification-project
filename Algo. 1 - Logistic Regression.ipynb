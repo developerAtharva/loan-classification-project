{
 "cells": [
  {
   "cell_type": "code",
   "execution_count": 25,
   "id": "9224f78a-4c48-4e33-9098-fb00de9e1b77",
   "metadata": {},
   "outputs": [],
   "source": [
    "import pandas as pd\n",
    "import numpy as np\n",
    "import matplotlib.pyplot as plt\n",
    "import seaborn as sns\n",
    "import warnings \n",
    "warnings.filterwarnings('ignore')"
   ]
  },
  {
   "cell_type": "code",
   "execution_count": 26,
   "id": "9289e254-a084-4bf0-80f7-d51df2535c24",
   "metadata": {},
   "outputs": [
    {
     "data": {
      "text/html": [
       "<div>\n",
       "<style scoped>\n",
       "    .dataframe tbody tr th:only-of-type {\n",
       "        vertical-align: middle;\n",
       "    }\n",
       "\n",
       "    .dataframe tbody tr th {\n",
       "        vertical-align: top;\n",
       "    }\n",
       "\n",
       "    .dataframe thead th {\n",
       "        text-align: right;\n",
       "    }\n",
       "</style>\n",
       "<table border=\"1\" class=\"dataframe\">\n",
       "  <thead>\n",
       "    <tr style=\"text-align: right;\">\n",
       "      <th></th>\n",
       "      <th>person_age</th>\n",
       "      <th>person_education</th>\n",
       "      <th>person_income</th>\n",
       "      <th>person_emp_exp</th>\n",
       "      <th>loan_amnt</th>\n",
       "      <th>loan_int_rate</th>\n",
       "      <th>loan_percent_income</th>\n",
       "      <th>cb_person_cred_hist_length</th>\n",
       "      <th>credit_score</th>\n",
       "      <th>loan_status</th>\n",
       "      <th>person_gender_male</th>\n",
       "      <th>person_home_ownership_OTHER</th>\n",
       "      <th>person_home_ownership_OWN</th>\n",
       "      <th>person_home_ownership_RENT</th>\n",
       "      <th>loan_intent_EDUCATION</th>\n",
       "      <th>loan_intent_HOMEIMPROVEMENT</th>\n",
       "      <th>loan_intent_MEDICAL</th>\n",
       "      <th>loan_intent_PERSONAL</th>\n",
       "      <th>loan_intent_VENTURE</th>\n",
       "      <th>previous_loan_defaults_on_file_Yes</th>\n",
       "    </tr>\n",
       "  </thead>\n",
       "  <tbody>\n",
       "    <tr>\n",
       "      <th>0</th>\n",
       "      <td>0.400566</td>\n",
       "      <td>3</td>\n",
       "      <td>7.006072</td>\n",
       "      <td>0.000000</td>\n",
       "      <td>44.917987</td>\n",
       "      <td>16.02</td>\n",
       "      <td>0.181526</td>\n",
       "      <td>1.032965</td>\n",
       "      <td>561</td>\n",
       "      <td>1</td>\n",
       "      <td>0</td>\n",
       "      <td>0</td>\n",
       "      <td>0</td>\n",
       "      <td>1</td>\n",
       "      <td>0</td>\n",
       "      <td>0</td>\n",
       "      <td>0</td>\n",
       "      <td>1</td>\n",
       "      <td>0</td>\n",
       "      <td>0</td>\n",
       "    </tr>\n",
       "    <tr>\n",
       "      <th>1</th>\n",
       "      <td>0.400547</td>\n",
       "      <td>0</td>\n",
       "      <td>6.315380</td>\n",
       "      <td>0.000000</td>\n",
       "      <td>17.190584</td>\n",
       "      <td>11.14</td>\n",
       "      <td>0.064709</td>\n",
       "      <td>0.867866</td>\n",
       "      <td>504</td>\n",
       "      <td>0</td>\n",
       "      <td>0</td>\n",
       "      <td>0</td>\n",
       "      <td>1</td>\n",
       "      <td>0</td>\n",
       "      <td>1</td>\n",
       "      <td>0</td>\n",
       "      <td>0</td>\n",
       "      <td>0</td>\n",
       "      <td>0</td>\n",
       "      <td>1</td>\n",
       "    </tr>\n",
       "    <tr>\n",
       "      <th>2</th>\n",
       "      <td>0.400608</td>\n",
       "      <td>0</td>\n",
       "      <td>6.320717</td>\n",
       "      <td>1.454795</td>\n",
       "      <td>27.670867</td>\n",
       "      <td>12.87</td>\n",
       "      <td>0.175722</td>\n",
       "      <td>1.032965</td>\n",
       "      <td>635</td>\n",
       "      <td>1</td>\n",
       "      <td>0</td>\n",
       "      <td>0</td>\n",
       "      <td>0</td>\n",
       "      <td>0</td>\n",
       "      <td>0</td>\n",
       "      <td>0</td>\n",
       "      <td>1</td>\n",
       "      <td>0</td>\n",
       "      <td>0</td>\n",
       "      <td>0</td>\n",
       "    </tr>\n",
       "    <tr>\n",
       "      <th>3</th>\n",
       "      <td>0.400582</td>\n",
       "      <td>2</td>\n",
       "      <td>7.042976</td>\n",
       "      <td>0.000000</td>\n",
       "      <td>44.917987</td>\n",
       "      <td>15.23</td>\n",
       "      <td>0.175722</td>\n",
       "      <td>0.867866</td>\n",
       "      <td>675</td>\n",
       "      <td>1</td>\n",
       "      <td>0</td>\n",
       "      <td>0</td>\n",
       "      <td>0</td>\n",
       "      <td>1</td>\n",
       "      <td>0</td>\n",
       "      <td>0</td>\n",
       "      <td>1</td>\n",
       "      <td>0</td>\n",
       "      <td>0</td>\n",
       "      <td>0</td>\n",
       "    </tr>\n",
       "    <tr>\n",
       "      <th>4</th>\n",
       "      <td>0.400596</td>\n",
       "      <td>3</td>\n",
       "      <td>6.975625</td>\n",
       "      <td>0.709998</td>\n",
       "      <td>44.917987</td>\n",
       "      <td>14.27</td>\n",
       "      <td>0.185437</td>\n",
       "      <td>1.147163</td>\n",
       "      <td>586</td>\n",
       "      <td>1</td>\n",
       "      <td>1</td>\n",
       "      <td>0</td>\n",
       "      <td>0</td>\n",
       "      <td>1</td>\n",
       "      <td>0</td>\n",
       "      <td>0</td>\n",
       "      <td>1</td>\n",
       "      <td>0</td>\n",
       "      <td>0</td>\n",
       "      <td>0</td>\n",
       "    </tr>\n",
       "    <tr>\n",
       "      <th>...</th>\n",
       "      <td>...</td>\n",
       "      <td>...</td>\n",
       "      <td>...</td>\n",
       "      <td>...</td>\n",
       "      <td>...</td>\n",
       "      <td>...</td>\n",
       "      <td>...</td>\n",
       "      <td>...</td>\n",
       "      <td>...</td>\n",
       "      <td>...</td>\n",
       "      <td>...</td>\n",
       "      <td>...</td>\n",
       "      <td>...</td>\n",
       "      <td>...</td>\n",
       "      <td>...</td>\n",
       "      <td>...</td>\n",
       "      <td>...</td>\n",
       "      <td>...</td>\n",
       "      <td>...</td>\n",
       "      <td>...</td>\n",
       "    </tr>\n",
       "    <tr>\n",
       "      <th>44995</th>\n",
       "      <td>0.400628</td>\n",
       "      <td>1</td>\n",
       "      <td>6.857405</td>\n",
       "      <td>2.082661</td>\n",
       "      <td>36.095253</td>\n",
       "      <td>15.66</td>\n",
       "      <td>0.153877</td>\n",
       "      <td>1.032965</td>\n",
       "      <td>645</td>\n",
       "      <td>1</td>\n",
       "      <td>1</td>\n",
       "      <td>0</td>\n",
       "      <td>0</td>\n",
       "      <td>1</td>\n",
       "      <td>0</td>\n",
       "      <td>0</td>\n",
       "      <td>1</td>\n",
       "      <td>0</td>\n",
       "      <td>0</td>\n",
       "      <td>0</td>\n",
       "    </tr>\n",
       "    <tr>\n",
       "      <th>44996</th>\n",
       "      <td>0.400681</td>\n",
       "      <td>1</td>\n",
       "      <td>6.973782</td>\n",
       "      <td>3.198901</td>\n",
       "      <td>31.560065</td>\n",
       "      <td>14.07</td>\n",
       "      <td>0.098152</td>\n",
       "      <td>1.499655</td>\n",
       "      <td>621</td>\n",
       "      <td>1</td>\n",
       "      <td>0</td>\n",
       "      <td>0</td>\n",
       "      <td>0</td>\n",
       "      <td>1</td>\n",
       "      <td>0</td>\n",
       "      <td>1</td>\n",
       "      <td>0</td>\n",
       "      <td>0</td>\n",
       "      <td>0</td>\n",
       "      <td>0</td>\n",
       "    </tr>\n",
       "    <tr>\n",
       "      <th>44997</th>\n",
       "      <td>0.400666</td>\n",
       "      <td>1</td>\n",
       "      <td>6.920954</td>\n",
       "      <td>2.236097</td>\n",
       "      <td>22.949877</td>\n",
       "      <td>10.02</td>\n",
       "      <td>0.043657</td>\n",
       "      <td>1.470473</td>\n",
       "      <td>668</td>\n",
       "      <td>1</td>\n",
       "      <td>1</td>\n",
       "      <td>0</td>\n",
       "      <td>0</td>\n",
       "      <td>1</td>\n",
       "      <td>0</td>\n",
       "      <td>0</td>\n",
       "      <td>0</td>\n",
       "      <td>0</td>\n",
       "      <td>0</td>\n",
       "      <td>0</td>\n",
       "    </tr>\n",
       "    <tr>\n",
       "      <th>44998</th>\n",
       "      <td>0.400644</td>\n",
       "      <td>2</td>\n",
       "      <td>6.717148</td>\n",
       "      <td>1.702249</td>\n",
       "      <td>34.047524</td>\n",
       "      <td>13.23</td>\n",
       "      <td>0.163686</td>\n",
       "      <td>1.299172</td>\n",
       "      <td>604</td>\n",
       "      <td>1</td>\n",
       "      <td>1</td>\n",
       "      <td>0</td>\n",
       "      <td>0</td>\n",
       "      <td>1</td>\n",
       "      <td>1</td>\n",
       "      <td>0</td>\n",
       "      <td>0</td>\n",
       "      <td>0</td>\n",
       "      <td>0</td>\n",
       "      <td>0</td>\n",
       "    </tr>\n",
       "    <tr>\n",
       "      <th>44999</th>\n",
       "      <td>0.400596</td>\n",
       "      <td>0</td>\n",
       "      <td>6.884623</td>\n",
       "      <td>0.709998</td>\n",
       "      <td>29.135168</td>\n",
       "      <td>17.05</td>\n",
       "      <td>0.093258</td>\n",
       "      <td>1.032965</td>\n",
       "      <td>628</td>\n",
       "      <td>1</td>\n",
       "      <td>1</td>\n",
       "      <td>0</td>\n",
       "      <td>0</td>\n",
       "      <td>1</td>\n",
       "      <td>0</td>\n",
       "      <td>0</td>\n",
       "      <td>0</td>\n",
       "      <td>0</td>\n",
       "      <td>0</td>\n",
       "      <td>0</td>\n",
       "    </tr>\n",
       "  </tbody>\n",
       "</table>\n",
       "<p>45000 rows × 20 columns</p>\n",
       "</div>"
      ],
      "text/plain": [
       "       person_age  person_education  person_income  person_emp_exp  loan_amnt  \\\n",
       "0        0.400566                 3       7.006072        0.000000  44.917987   \n",
       "1        0.400547                 0       6.315380        0.000000  17.190584   \n",
       "2        0.400608                 0       6.320717        1.454795  27.670867   \n",
       "3        0.400582                 2       7.042976        0.000000  44.917987   \n",
       "4        0.400596                 3       6.975625        0.709998  44.917987   \n",
       "...           ...               ...            ...             ...        ...   \n",
       "44995    0.400628                 1       6.857405        2.082661  36.095253   \n",
       "44996    0.400681                 1       6.973782        3.198901  31.560065   \n",
       "44997    0.400666                 1       6.920954        2.236097  22.949877   \n",
       "44998    0.400644                 2       6.717148        1.702249  34.047524   \n",
       "44999    0.400596                 0       6.884623        0.709998  29.135168   \n",
       "\n",
       "       loan_int_rate  loan_percent_income  cb_person_cred_hist_length  \\\n",
       "0              16.02             0.181526                    1.032965   \n",
       "1              11.14             0.064709                    0.867866   \n",
       "2              12.87             0.175722                    1.032965   \n",
       "3              15.23             0.175722                    0.867866   \n",
       "4              14.27             0.185437                    1.147163   \n",
       "...              ...                  ...                         ...   \n",
       "44995          15.66             0.153877                    1.032965   \n",
       "44996          14.07             0.098152                    1.499655   \n",
       "44997          10.02             0.043657                    1.470473   \n",
       "44998          13.23             0.163686                    1.299172   \n",
       "44999          17.05             0.093258                    1.032965   \n",
       "\n",
       "       credit_score  loan_status  person_gender_male  \\\n",
       "0               561            1                   0   \n",
       "1               504            0                   0   \n",
       "2               635            1                   0   \n",
       "3               675            1                   0   \n",
       "4               586            1                   1   \n",
       "...             ...          ...                 ...   \n",
       "44995           645            1                   1   \n",
       "44996           621            1                   0   \n",
       "44997           668            1                   1   \n",
       "44998           604            1                   1   \n",
       "44999           628            1                   1   \n",
       "\n",
       "       person_home_ownership_OTHER  person_home_ownership_OWN  \\\n",
       "0                                0                          0   \n",
       "1                                0                          1   \n",
       "2                                0                          0   \n",
       "3                                0                          0   \n",
       "4                                0                          0   \n",
       "...                            ...                        ...   \n",
       "44995                            0                          0   \n",
       "44996                            0                          0   \n",
       "44997                            0                          0   \n",
       "44998                            0                          0   \n",
       "44999                            0                          0   \n",
       "\n",
       "       person_home_ownership_RENT  loan_intent_EDUCATION  \\\n",
       "0                               1                      0   \n",
       "1                               0                      1   \n",
       "2                               0                      0   \n",
       "3                               1                      0   \n",
       "4                               1                      0   \n",
       "...                           ...                    ...   \n",
       "44995                           1                      0   \n",
       "44996                           1                      0   \n",
       "44997                           1                      0   \n",
       "44998                           1                      1   \n",
       "44999                           1                      0   \n",
       "\n",
       "       loan_intent_HOMEIMPROVEMENT  loan_intent_MEDICAL  loan_intent_PERSONAL  \\\n",
       "0                                0                    0                     1   \n",
       "1                                0                    0                     0   \n",
       "2                                0                    1                     0   \n",
       "3                                0                    1                     0   \n",
       "4                                0                    1                     0   \n",
       "...                            ...                  ...                   ...   \n",
       "44995                            0                    1                     0   \n",
       "44996                            1                    0                     0   \n",
       "44997                            0                    0                     0   \n",
       "44998                            0                    0                     0   \n",
       "44999                            0                    0                     0   \n",
       "\n",
       "       loan_intent_VENTURE  previous_loan_defaults_on_file_Yes  \n",
       "0                        0                                   0  \n",
       "1                        0                                   1  \n",
       "2                        0                                   0  \n",
       "3                        0                                   0  \n",
       "4                        0                                   0  \n",
       "...                    ...                                 ...  \n",
       "44995                    0                                   0  \n",
       "44996                    0                                   0  \n",
       "44997                    0                                   0  \n",
       "44998                    0                                   0  \n",
       "44999                    0                                   0  \n",
       "\n",
       "[45000 rows x 20 columns]"
      ]
     },
     "execution_count": 26,
     "metadata": {},
     "output_type": "execute_result"
    }
   ],
   "source": [
    "df = pd.read_csv('cleaned_loan_data.csv')\n",
    "df"
   ]
  },
  {
   "cell_type": "code",
   "execution_count": 27,
   "id": "3b8c2644-be6a-4e81-ac3e-097e933b8def",
   "metadata": {},
   "outputs": [],
   "source": [
    "X = df.drop(columns = {'loan_status'})\n",
    "y = df['loan_status']"
   ]
  },
  {
   "cell_type": "markdown",
   "id": "2116e885-bfcc-4d7b-b4c8-ce404c5a5185",
   "metadata": {},
   "source": [
    "**Train Test Split**"
   ]
  },
  {
   "cell_type": "code",
   "execution_count": 28,
   "id": "9ee7dfb2-046b-43de-88ef-9195ccf8896c",
   "metadata": {},
   "outputs": [],
   "source": [
    "from sklearn.model_selection import train_test_split\n",
    "\n",
    "X_train, X_test, y_train, y_test = train_test_split(X, y, test_size = 0.2, random_state = 93)"
   ]
  },
  {
   "cell_type": "markdown",
   "id": "a5224302-bcec-42fc-8589-291c52376897",
   "metadata": {},
   "source": [
    "**Scaling**"
   ]
  },
  {
   "cell_type": "code",
   "execution_count": 29,
   "id": "f9249a8f-2657-46db-bc22-b368535bcb8e",
   "metadata": {},
   "outputs": [],
   "source": [
    "from sklearn.preprocessing import StandardScaler\n",
    "\n",
    "ss = StandardScaler()\n",
    "X_train.iloc[:, [0, 2, 3, 4, 5, 6, 7, 8]] = ss.fit_transform(X_train.iloc[:, [0, 2, 3, 4, 5, 6, 7, 8]])\n",
    "X_test.iloc[:, [0, 2, 3, 4, 5, 6, 7, 8]] = ss.transform(X_test.iloc[:, [0, 2, 3, 4, 5, 6, 7, 8]])"
   ]
  },
  {
   "cell_type": "markdown",
   "id": "7f94497c-129b-4b96-b380-518f7945d7ae",
   "metadata": {},
   "source": [
    "**PCA**"
   ]
  },
  {
   "cell_type": "code",
   "execution_count": 30,
   "id": "0e5e21f1-3551-45f5-a4fd-9ccea5dcdfb9",
   "metadata": {},
   "outputs": [],
   "source": [
    "from sklearn.decomposition import PCA\n",
    "\n",
    "pca = PCA(n_components = 0.95)\n",
    "X_train = pca.fit_transform(X_train)\n",
    "X_test = pca.transform(X_test)"
   ]
  },
  {
   "cell_type": "code",
   "execution_count": 31,
   "id": "3de10cf7-b3fc-4fcc-acea-77e8fa4e8b8e",
   "metadata": {},
   "outputs": [
    {
     "data": {
      "text/plain": [
       "(36000, 12)"
      ]
     },
     "execution_count": 31,
     "metadata": {},
     "output_type": "execute_result"
    }
   ],
   "source": [
    "X_train.shape"
   ]
  },
  {
   "cell_type": "markdown",
   "id": "92a3d0b9-acdb-41e5-a110-1179b475118a",
   "metadata": {},
   "source": [
    "**Modelling + Evaluation**"
   ]
  },
  {
   "cell_type": "code",
   "execution_count": 32,
   "id": "ef5f09aa-965a-4ca4-a8ef-d227a5a1ecd4",
   "metadata": {},
   "outputs": [
    {
     "name": "stdout",
     "output_type": "stream",
     "text": [
      "Accuracy(train):  0.8916944444444445\n",
      "Cv-Score:  0.8915833333333334\n",
      "Accuracy(test):  0.893\n",
      "Good Model\n"
     ]
    }
   ],
   "source": [
    "#Modelling\n",
    "from sklearn.linear_model import LogisticRegression\n",
    "\n",
    "model = LogisticRegression(random_state = True)\n",
    "model.fit(X_train, y_train)\n",
    "\n",
    "#Prediction\n",
    "ypred_train = model.predict(X_train)\n",
    "ypred_test = model.predict(X_test)\n",
    "\n",
    "#Evaluation\n",
    "from sklearn.metrics import accuracy_score\n",
    "\n",
    "accuracy_train = accuracy_score(y_train, ypred_train)\n",
    "accuracy_test = accuracy_score(y_test, ypred_test)\n",
    "\n",
    "from sklearn.model_selection import cross_val_score\n",
    "\n",
    "cv = cross_val_score(model, X_train, y_train, cv = 5, scoring = 'accuracy').mean()\n",
    "\n",
    "print('Accuracy(train): ', accuracy_train)\n",
    "print('Cv-Score: ', cv)\n",
    "print('Accuracy(test): ', accuracy_test)\n",
    "\n",
    "if (abs(accuracy_train - cv) <= 0.05) and (abs(accuracy_train - accuracy_test) <= 0.05):\n",
    "  print('Good Model')\n",
    "else:\n",
    "  print('Bad Model')"
   ]
  },
  {
   "cell_type": "code",
   "execution_count": 33,
   "id": "0517e3f1-c6dd-4751-874c-87fc415c9932",
   "metadata": {},
   "outputs": [
    {
     "name": "stdout",
     "output_type": "stream",
     "text": [
      "33.2 ms ± 1.28 ms per loop (mean ± std. dev. of 7 runs, 10 loops each)\n"
     ]
    }
   ],
   "source": [
    "%%timeit\n",
    "model.fit(X_train, y_train)"
   ]
  },
  {
   "cell_type": "markdown",
   "id": "9c2554ac-06c5-47a7-ab2e-f72bc445687d",
   "metadata": {},
   "source": [
    "**Confusion Matrix**"
   ]
  },
  {
   "cell_type": "code",
   "execution_count": 34,
   "id": "e3742b6e-0a67-4ca4-8801-9a9a54f9978d",
   "metadata": {},
   "outputs": [
    {
     "data": {
      "text/plain": [
       "<sklearn.metrics._plot.confusion_matrix.ConfusionMatrixDisplay at 0x26264b89a90>"
      ]
     },
     "execution_count": 34,
     "metadata": {},
     "output_type": "execute_result"
    },
    {
     "data": {
      "image/png": "[encoded data removed]",
      "text/plain": [
       "<Figure size 640x480 with 2 Axes>"
      ]
     },
     "metadata": {},
     "output_type": "display_data"
    }
   ],
   "source": [
    "from sklearn.metrics import confusion_matrix, ConfusionMatrixDisplay\n",
    "\n",
    "cm = confusion_matrix(y_test, ypred_test)\n",
    "ConfusionMatrixDisplay(cm).plot()"
   ]
  },
  {
   "cell_type": "markdown",
   "id": "c2792bf1-7df0-4098-8026-cfedcef6b323",
   "metadata": {},
   "source": [
    "**ROC**"
   ]
  },
  {
   "cell_type": "code",
   "execution_count": 35,
   "id": "09cd70e3-a3e4-46c4-952a-8ee95d228c79",
   "metadata": {},
   "outputs": [
    {
     "data": {
      "text/plain": [
       "<sklearn.metrics._plot.roc_curve.RocCurveDisplay at 0x26264bdd310>"
      ]
     },
     "execution_count": 35,
     "metadata": {},
     "output_type": "execute_result"
    },
    {
     "data": {
      "image/png": "[encoded data removed]",
      "text/plain": [
       "<Figure size 640x480 with 1 Axes>"
      ]
     },
     "metadata": {},
     "output_type": "display_data"
    }
   ],
   "source": [
    "from sklearn.metrics import roc_curve, auc, RocCurveDisplay\n",
    "\n",
    "fpr, tpr, thresholds = roc_curve(y_test, ypred_test)\n",
    "\n",
    "roc_auc = auc(fpr, tpr)\n",
    "\n",
    "RocCurveDisplay(fpr = fpr, tpr = tpr, roc_auc = roc_auc).plot()"
   ]
  },
  {
   "cell_type": "code",
   "execution_count": null,
   "id": "105b8e21-7fdf-4f82-986a-1f0c0825aed6",
   "metadata": {},
   "outputs": [],
   "source": []
  }
 ],
 "metadata": {
  "kernelspec": {
   "display_name": "Python 3 (ipykernel)",
   "language": "python",
   "name": "python3"
  },
  "language_info": {
   "codemirror_mode": {
    "name": "ipython",
    "version": 3
   },
   "file_extension": ".py",
   "mimetype": "text/x-python",
   "name": "python",
   "nbconvert_exporter": "python",
   "pygments_lexer": "ipython3",
   "version": "3.11.9"
  },
  "widgets": {
   "application/vnd.jupyter.widget-state+json": {
    "state": {},
    "version_major": 2,
    "version_minor": 0
   }
  }
 },
 "nbformat": 4,
 "nbformat_minor": 5
}
